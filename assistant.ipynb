{
 "cells": [
  {
   "cell_type": "markdown",
   "id": "5bbd3f77",
   "metadata": {},
   "source": [
    "Copyright (c) Microsoft Corporation. All rights reserved.  \n",
    "Licensed under the MIT License.\n",
    "\n",
    "## Explore text generation using ONNX Runtime\n",
    "\n",
    "Microsoft phi-2 is a 2.7 billion-parameter language model with reasoning and language understanding capabilities. Phi-2 is as powerful as some models that are 3-4x its size. It was trained on text book data rather than data from the internet.\n",
    "\n",
    "This interactive notebook shows you how to optimizing the phi-2 model with Olive for different hardware targets, as well as runing the optimized model using the ONNX Runtime generate() API for high performance across platforms. \n",
    "\n",
    "### Steps\n",
    "\n",
    "- **Prerequisites** - install packages and get model access\n",
    "- **Optimize Phi-2 for hardware target** - run with Olive for generating hardware-specific models\n",
    "- **Run Phi-2 with high performance** - run with ONNX Runtime generate() API, and compare the performance with llama.cpp\n",
    "- **Run Phi-2 everywhere** - Phi-2 in Windows APP, Mobile APP and Web APP"
   ]
  },
  {
   "cell_type": "markdown",
   "id": "2663cec1",
   "metadata": {},
   "source": [
    "### Prerequisites\n",
    "Install all required packages and obtain access to the model on Hugging Face"
   ]
  },
  {
   "cell_type": "code",
   "execution_count": null,
   "id": "2cdce572-02eb-421e-a1c2-d169a4c85e2b",
   "metadata": {
    "scrolled": true
   },
   "outputs": [],
   "source": [
    "!pip install onnxruntime-genai-cuda --index-url=https://aiinfra.pkgs.visualstudio.com/PublicPackages/_packaging/onnxruntime-genai/pypi/simple/\n",
    "!pip install onnxruntime-gpu\n",
    "!pip install olive-ai\n",
    "!pip install huggingface-hub"
   ]
  },
  {
   "cell_type": "code",
   "execution_count": null,
   "id": "51ea1db1-4460-49ed-8da5-918a1adb460d",
   "metadata": {},
   "outputs": [],
   "source": [
    "!huggingface-cli login --token <TOKEN>"
   ]
  },
  {
   "cell_type": "markdown",
   "id": "7fde0ada",
   "metadata": {},
   "source": [
    "### Optimize Phi-2 for hardware target\n",
    "Olive is a hardware-aware model optimization tool that efficiently generates optimized models to run with the ONNX Runtime. \n",
    "\n",
    "By specifying the input model and the targeted hardware in a configuration file, Olive applies cutting-edge optimizations to obtain the optimized model with a single line of code. \n",
    "\n",
    "Here, we use olive for generating optimized models for both CPU and GPU. "
   ]
  },
  {
   "cell_type": "code",
   "execution_count": null,
   "id": "e86b3453-0e9f-47fb-ab63-193e0e06c583",
   "metadata": {},
   "outputs": [],
   "source": [
    "import olive.workflows\n",
    "\n",
    "olive.workflows.run(\"phi2_gpu.json\")\n",
    "\n",
    "#for getting CPU model, pls uncomment this line below\n",
    "#olive.workflows.run(\"phi2_cpu.json\")"
   ]
  },
  {
   "cell_type": "markdown",
   "id": "24485a1d",
   "metadata": {},
   "source": [
    "### Run Phi-2 with high performance\n",
    "ONNX Runtime is a high-performance, cross-platform engine for running AI models. \n",
    "\n",
    "The ONNX Runtime generate() wraps the generation loop in a light weight, performant API. \n",
    "\n",
    "After obtaining an optimized phi-2 model, we can input it into the ONNX Runtime generate() API for high-performance inference."
   ]
  },
  {
   "cell_type": "markdown",
   "id": "69a3ce71",
   "metadata": {},
   "source": [
    "##### Load the model"
   ]
  },
  {
   "cell_type": "code",
   "execution_count": null,
   "id": "add45ace-14be-4ab3-a68c-303aebeea18c",
   "metadata": {},
   "outputs": [],
   "source": [
    "import onnxruntime_genai as og\n",
    "import time\n",
    "\n",
    "print(\"Loading model...\")\n",
    "app_started_timestamp = time.time()\n",
    "\n",
    "model = og.Model(f'.\\\\phi-2\\\\cuda\\\\int4\\\\genai_exporter\\\\gpu-cuda_model')\n",
    "#for running CPU model, pls uncomment this line below\n",
    "#model = og.Model(f'.\\\\phi-2\\\\cpu\\\\int4\\\\genai_exporter\\\\cpu-cpu_model')\n",
    "\n",
    "model_loaded_timestamp  = time.time()\n",
    "\n",
    "print(\"Model loaded in {:.2f} seconds\".format(model_loaded_timestamp - app_started_timestamp))\n",
    "\n"
   ]
  },
  {
   "cell_type": "markdown",
   "id": "2528501b",
   "metadata": {},
   "source": [
    "##### Load tokenizer, and set up the inputs to the model"
   ]
  },
  {
   "cell_type": "code",
   "execution_count": null,
   "id": "79513969-40bc-4588-a10c-8c482d224fdb",
   "metadata": {},
   "outputs": [],
   "source": [
    "print(\"Loading tokenizer...\")\n",
    "tokenizer = og.Tokenizer(model)\n",
    "tokenizer_stream = tokenizer.create_stream()\n",
    "\n",
    "print(\"Tokenizer created\")\n",
    "\n",
    "system_prompt = \"You are a helpful assistant. Answer in one sentence.\"\n",
    "text = \"What is Dilithium?\"\n",
    "\n",
    "input_tokens = tokenizer.encode(system_prompt + text)\n",
    "\n",
    "prompt_length = len(input_tokens)"
   ]
  },
  {
   "cell_type": "markdown",
   "id": "5d115a28",
   "metadata": {},
   "source": [
    "##### Run phi-2 model and measure performance with ONNX Runtime"
   ]
  },
  {
   "cell_type": "code",
   "execution_count": null,
   "id": "9dcf8cc3-d5d2-42b1-8ad1-76d6629667b1",
   "metadata": {},
   "outputs": [],
   "source": [
    "started_timestamp = time.time()\n",
    "\n",
    "print(\"Creating generator ...\")\n",
    "params = og.GeneratorParams(model)\n",
    "params.set_search_options({\"do_sample\": False, \"max_length\": 2048, \"min_length\": 0, \"top_p\": 0.9, \"top_k\": 40, \"temperature\": 0.7, \"repetition_penalty\": 1.1})\n",
    "params.input_ids = input_tokens\n",
    "generator = og.Generator(model, params)\n",
    "print(\"Generator created\")\n",
    "\n",
    "first = True\n",
    "new_tokens = []\n",
    "\n",
    "while not generator.is_done():\n",
    "    generator.compute_logits()\n",
    "    generator.generate_next_token()\n",
    "    if first:\n",
    "        first_token_timestamp = time.time()\n",
    "        first = False\n",
    "\n",
    "    new_token = generator.get_next_tokens()[0]\n",
    "    print(tokenizer_stream.decode(new_token), end=\"\")\n",
    "    new_tokens.append(new_token)\n",
    "\n",
    "print()\n",
    "run_time = time.time() - started_timestamp\n",
    "print(f\"Prompt tokens: {len(input_tokens)}, New tokens: {len(new_tokens)}, Time to first: {(first_token_timestamp - started_timestamp):.2f}s, New tokens per second: {len(new_tokens)/run_time:.2f} tps\")\n"
   ]
  },
  {
   "cell_type": "markdown",
   "id": "4b21ba84-3449-4639-9a2f-1ce38760f61c",
   "metadata": {},
   "source": [
    "##### Compare with llama.cpp\n",
    "\n",
    "llama.cpp is another popular solution to enable LLM inference with high performance on a wide variety of hardware targets. It now supports a small set of models. \n",
    "\n",
    "For a PyTorch model, it also requires conversion and optimization to its model format, known as GGUF format (https://github.com/ggerganov/llama.cpp?tab=readme-ov-file#prepare-and-quantize). Also you can download pre-optimized GGUF models on Hugging face. \n",
    "\n",
    "You can skip these steps below if llama.cpp has been built already. \n",
    "\n",
    "**Download and build llama.cpp**\n",
    "* git clone https://github.com/ggerganov/llama.cpp.git\n",
    "* cd llama.cpp\n",
    "* cmake -S . -B build/ -D CMAKE_BUILD_TYPE=Release\n",
    "* cmake --build build/ --config Release\n",
    "\n",
    "**Download gguf phi-2 model**\n",
    "* git lfs install\n",
    "* git clone https://huggingface.co/TheBloke/phi-2-GGUF\n",
    "\n"
   ]
  },
  {
   "cell_type": "code",
   "execution_count": null,
   "id": "dfd4e897-1316-4f80-8fe1-0088341be5b9",
   "metadata": {},
   "outputs": [],
   "source": [
    "# Compare with llama.cpp.\n",
    "\n",
    "! ..\\..\\ggerganov\\llama.cpp.cuda\\llama.cpp\\build\\bin\\Release\\main -m ..\\..\\thebloke\\phi-2-GGUF\\phi-2.Q4_K_M.gguf --prompt \"You are a helpful assistant. Answer in one sentence. What is Dilithium?\"\n"
   ]
  },
  {
   "cell_type": "markdown",
   "id": "56d50aa9-fcf5-4a59-9c2a-799d8f1ca7b8",
   "metadata": {},
   "source": [
    "### Step 3 - Run Phi-2 everywhere\n",
    "* Windows APP with Phi-2 - D:\\Demos\\Genny\n",
    "* Web APP with Phi-2: (https://guschmue.github.io/ort-webgpu/chat/?model=phi2)\n",
    "* Moble APP with Phi-2: Cast Android phone screen to Laptop"
   ]
  },
  {
   "cell_type": "code",
   "execution_count": null,
   "id": "f0b2672d-2f25-4f89-9d74-d87c37f453d2",
   "metadata": {},
   "outputs": [],
   "source": []
  }
 ],
 "metadata": {
  "kernelspec": {
   "display_name": "Python 3 (ipykernel)",
   "language": "python",
   "name": "python3"
  },
  "language_info": {
   "codemirror_mode": {
    "name": "ipython",
    "version": 3
   },
   "file_extension": ".py",
   "mimetype": "text/x-python",
   "name": "python",
   "nbconvert_exporter": "python",
   "pygments_lexer": "ipython3",
   "version": "3.11.8"
  }
 },
 "nbformat": 4,
 "nbformat_minor": 5
}
